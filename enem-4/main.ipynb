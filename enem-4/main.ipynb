{
 "cells": [
  {
   "cell_type": "code",
   "execution_count": 11,
   "metadata": {},
   "outputs": [],
   "source": [
    "import pandas as pd\n",
    "from sklearn.utils import resample\n",
    "from sklearn.metrics import accuracy_score\n",
    "from sklearn.ensemble import RandomForestClassifier, AdaBoostClassifier\n",
    "from sklearn.linear_model import LogisticRegression"
   ]
  },
  {
   "cell_type": "code",
   "execution_count": 12,
   "metadata": {},
   "outputs": [],
   "source": [
    "enem = pd.read_csv(\"train.csv\")\n",
    "enem_teste = pd.read_csv(\"test.csv\")\n",
    "\n",
    "dropped_columns = []\n",
    "for col in enem:\n",
    "    if col != 'IN_TREINEIRO' and ((enem[col].dtypes != \"float64\" and enem[col].dtypes != \"int64\") or (col.startswith(\"Q0\") ) or col not in enem_teste.columns):\n",
    "        dropped_columns.append(col)\n",
    "enem = enem.drop(columns=dropped_columns)"
   ]
  },
  {
   "cell_type": "code",
   "execution_count": 13,
   "metadata": {},
   "outputs": [],
   "source": [
    "dropped_columns = []\n",
    "for col in enem_teste:\n",
    "    if col not in enem.columns:\n",
    "        dropped_columns.append(col)\n",
    "enem_teste = enem_teste.drop(columns=dropped_columns)"
   ]
  },
  {
   "cell_type": "code",
   "execution_count": 14,
   "metadata": {},
   "outputs": [],
   "source": [
    "enem_teste = enem_teste.fillna(0)\n",
    "enem = enem.fillna(0)"
   ]
  },
  {
   "cell_type": "code",
   "execution_count": 15,
   "metadata": {},
   "outputs": [
    {
     "output_type": "execute_result",
     "data": {
      "text/plain": "              CO_UF_RESIDENCIA  NU_IDADE  TP_COR_RACA  TP_NACIONALIDADE  \\\nIN_TREINEIRO                                                              \n0                        11947     11947        11947             11947   \n1                         1783      1783         1783              1783   \n\n              TP_ST_CONCLUSAO  TP_ANO_CONCLUIU  TP_ESCOLA  TP_ENSINO  \\\nIN_TREINEIRO                                                           \n0                       11947            11947      11947      11947   \n1                        1783             1783       1783       1783   \n\n              TP_DEPENDENCIA_ADM_ESC  IN_BAIXA_VISAO  ...  NU_NOTA_CH  \\\nIN_TREINEIRO                                          ...               \n0                              11947           11947  ...       11947   \n1                               1783            1783  ...        1783   \n\n              NU_NOTA_LC  TP_LINGUA  TP_STATUS_REDACAO  NU_NOTA_COMP1  \\\nIN_TREINEIRO                                                            \n0                  11947      11947              11947          11947   \n1                   1783       1783               1783           1783   \n\n              NU_NOTA_COMP2  NU_NOTA_COMP3  NU_NOTA_COMP4  NU_NOTA_COMP5  \\\nIN_TREINEIRO                                                               \n0                     11947          11947          11947          11947   \n1                      1783           1783           1783           1783   \n\n              NU_NOTA_REDACAO  \nIN_TREINEIRO                   \n0                       11947  \n1                        1783  \n\n[2 rows x 32 columns]",
      "text/html": "<div>\n<style scoped>\n    .dataframe tbody tr th:only-of-type {\n        vertical-align: middle;\n    }\n\n    .dataframe tbody tr th {\n        vertical-align: top;\n    }\n\n    .dataframe thead th {\n        text-align: right;\n    }\n</style>\n<table border=\"1\" class=\"dataframe\">\n  <thead>\n    <tr style=\"text-align: right;\">\n      <th></th>\n      <th>CO_UF_RESIDENCIA</th>\n      <th>NU_IDADE</th>\n      <th>TP_COR_RACA</th>\n      <th>TP_NACIONALIDADE</th>\n      <th>TP_ST_CONCLUSAO</th>\n      <th>TP_ANO_CONCLUIU</th>\n      <th>TP_ESCOLA</th>\n      <th>TP_ENSINO</th>\n      <th>TP_DEPENDENCIA_ADM_ESC</th>\n      <th>IN_BAIXA_VISAO</th>\n      <th>...</th>\n      <th>NU_NOTA_CH</th>\n      <th>NU_NOTA_LC</th>\n      <th>TP_LINGUA</th>\n      <th>TP_STATUS_REDACAO</th>\n      <th>NU_NOTA_COMP1</th>\n      <th>NU_NOTA_COMP2</th>\n      <th>NU_NOTA_COMP3</th>\n      <th>NU_NOTA_COMP4</th>\n      <th>NU_NOTA_COMP5</th>\n      <th>NU_NOTA_REDACAO</th>\n    </tr>\n    <tr>\n      <th>IN_TREINEIRO</th>\n      <th></th>\n      <th></th>\n      <th></th>\n      <th></th>\n      <th></th>\n      <th></th>\n      <th></th>\n      <th></th>\n      <th></th>\n      <th></th>\n      <th></th>\n      <th></th>\n      <th></th>\n      <th></th>\n      <th></th>\n      <th></th>\n      <th></th>\n      <th></th>\n      <th></th>\n      <th></th>\n      <th></th>\n    </tr>\n  </thead>\n  <tbody>\n    <tr>\n      <th>0</th>\n      <td>11947</td>\n      <td>11947</td>\n      <td>11947</td>\n      <td>11947</td>\n      <td>11947</td>\n      <td>11947</td>\n      <td>11947</td>\n      <td>11947</td>\n      <td>11947</td>\n      <td>11947</td>\n      <td>...</td>\n      <td>11947</td>\n      <td>11947</td>\n      <td>11947</td>\n      <td>11947</td>\n      <td>11947</td>\n      <td>11947</td>\n      <td>11947</td>\n      <td>11947</td>\n      <td>11947</td>\n      <td>11947</td>\n    </tr>\n    <tr>\n      <th>1</th>\n      <td>1783</td>\n      <td>1783</td>\n      <td>1783</td>\n      <td>1783</td>\n      <td>1783</td>\n      <td>1783</td>\n      <td>1783</td>\n      <td>1783</td>\n      <td>1783</td>\n      <td>1783</td>\n      <td>...</td>\n      <td>1783</td>\n      <td>1783</td>\n      <td>1783</td>\n      <td>1783</td>\n      <td>1783</td>\n      <td>1783</td>\n      <td>1783</td>\n      <td>1783</td>\n      <td>1783</td>\n      <td>1783</td>\n    </tr>\n  </tbody>\n</table>\n<p>2 rows × 32 columns</p>\n</div>"
     },
     "metadata": {},
     "execution_count": 15
    }
   ],
   "source": [
    "enem.groupby(['IN_TREINEIRO']).count()"
   ]
  },
  {
   "cell_type": "code",
   "execution_count": 16,
   "metadata": {},
   "outputs": [],
   "source": [
    "df_nao_treineiro = enem[enem.IN_TREINEIRO==0]\n",
    "df_treineiro = enem[enem.IN_TREINEIRO==1]"
   ]
  },
  {
   "cell_type": "code",
   "execution_count": 17,
   "metadata": {},
   "outputs": [
    {
     "output_type": "execute_result",
     "data": {
      "text/plain": "1    11947\n0    11947\nName: IN_TREINEIRO, dtype: int64"
     },
     "metadata": {},
     "execution_count": 17
    }
   ],
   "source": [
    "df_treineiro_upsampled = resample(df_treineiro, \n",
    "                                 replace=True,     # sample with replacement\n",
    "                                 n_samples=11947,    # to match majority class\n",
    "                                 random_state=1245) # reproducible results\n",
    "enem_upsampled = pd.concat([df_nao_treineiro, df_treineiro_upsampled])\n",
    "enem_upsampled.IN_TREINEIRO.value_counts()"
   ]
  },
  {
   "cell_type": "code",
   "execution_count": 18,
   "metadata": {},
   "outputs": [],
   "source": [
    "treineiro = enem_upsampled.IN_TREINEIRO\n",
    "X = enem_upsampled.drop('IN_TREINEIRO', axis=1)\n",
    "logistic_regression = LogisticRegression().fit(X, treineiro)\n",
    "random_forest_classifier = RandomForestClassifier().fit(X, treineiro)\n",
    "ada_forest_classifier = AdaBoostClassifier().fit(X, treineiro)"
   ]
  },
  {
   "cell_type": "code",
   "execution_count": 19,
   "metadata": {},
   "outputs": [
    {
     "output_type": "stream",
     "name": "stdout",
     "text": "0.9661421277308111\n0.9993303758265674\n0.9971959487737507\n"
    }
   ],
   "source": [
    "pred_logistic_regression = logistic_regression.predict(X)\n",
    "pred_random_forest_classifier = random_forest_classifier.predict(X)\n",
    "pred_ada_classifier = ada_forest_classifier.predict(X)\n",
    "print( accuracy_score(pred_logistic_regression, treineiro) )\n",
    "print( accuracy_score(pred_random_forest_classifier, treineiro) )\n",
    "print( accuracy_score(pred_ada_classifier, treineiro) )"
   ]
  },
  {
   "cell_type": "code",
   "execution_count": 20,
   "metadata": {},
   "outputs": [],
   "source": [
    "prediction = random_forest_classifier.predict(enem_teste)"
   ]
  },
  {
   "cell_type": "code",
   "execution_count": 21,
   "metadata": {},
   "outputs": [],
   "source": [
    "test = pd.read_csv(\"test.csv\")\n",
    "result = pd.DataFrame()"
   ]
  },
  {
   "cell_type": "code",
   "execution_count": 22,
   "metadata": {},
   "outputs": [],
   "source": [
    "result['NU_INSCRICAO'] = test['NU_INSCRICAO']\n",
    "result['IN_TREINEIRO'] = prediction"
   ]
  },
  {
   "cell_type": "code",
   "execution_count": 23,
   "metadata": {},
   "outputs": [],
   "source": [
    "result.to_csv('answer.csv', index=False)"
   ]
  }
 ],
 "metadata": {
  "language_info": {
   "codemirror_mode": {
    "name": "ipython",
    "version": 3
   },
   "file_extension": ".py",
   "mimetype": "text/x-python",
   "name": "python",
   "nbconvert_exporter": "python",
   "pygments_lexer": "ipython3",
   "version": "3.7.7-final"
  },
  "orig_nbformat": 2,
  "kernelspec": {
   "name": "python37764bitvenvvenvbf29798b9757460a819ad65774a3d885",
   "display_name": "Python 3.7.7 64-bit ('venv': venv)"
  }
 },
 "nbformat": 4,
 "nbformat_minor": 2
}