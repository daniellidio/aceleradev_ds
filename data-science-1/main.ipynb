{
 "cells": [
  {
   "cell_type": "markdown",
   "metadata": {},
   "source": [
    "# Desafio 3\n",
    "\n",
    "Neste desafio, iremos praticar nossos conhecimentos sobre distribuições de probabilidade. Para isso,\n",
    "dividiremos este desafio em duas partes:\n",
    "    \n",
    "1. A primeira parte contará com 3 questões sobre um *data set* artificial com dados de uma amostra normal e\n",
    "    uma binomial.\n",
    "2. A segunda parte será sobre a análise da distribuição de uma variável do _data set_ [Pulsar Star](https://archive.ics.uci.edu/ml/datasets/HTRU2), contendo 2 questões.\n",
    "\n",
    "> Obs.: Por favor, não modifique o nome das funções de resposta."
   ]
  },
  {
   "cell_type": "markdown",
   "metadata": {},
   "source": [
    "## _Setup_ geral"
   ]
  },
  {
   "cell_type": "code",
   "execution_count": 1,
   "metadata": {},
   "outputs": [],
   "source": [
    "import pandas as pd\n",
    "import matplotlib.pyplot as plt\n",
    "import numpy as np\n",
    "import scipy.stats as sct\n",
    "import seaborn as sns\n",
    "from statsmodels.distributions.empirical_distribution import ECDF"
   ]
  },
  {
   "cell_type": "code",
   "execution_count": 2,
   "metadata": {},
   "outputs": [],
   "source": [
    "#%matplotlib inline\n",
    "\n",
    "from IPython.core.pylabtools import figsize\n",
    "\n",
    "\n",
    "figsize(12, 8)\n",
    "\n",
    "sns.set()"
   ]
  },
  {
   "cell_type": "markdown",
   "metadata": {},
   "source": [
    "## Parte 1"
   ]
  },
  {
   "cell_type": "markdown",
   "metadata": {},
   "source": [
    "### _Setup_ da parte 1"
   ]
  },
  {
   "cell_type": "code",
   "execution_count": 3,
   "metadata": {},
   "outputs": [],
   "source": [
    "np.random.seed(42)\n",
    "    \n",
    "dataframe = pd.DataFrame({\"normal\": sct.norm.rvs(20, 4, size=10000),\n",
    "                     \"binomial\": sct.binom.rvs(100, 0.2, size=10000)})"
   ]
  },
  {
   "cell_type": "markdown",
   "metadata": {},
   "source": [
    "## Inicie sua análise a partir da parte 1 a partir daqui"
   ]
  },
  {
   "cell_type": "code",
   "execution_count": 4,
   "metadata": {},
   "outputs": [
    {
     "output_type": "execute_result",
     "data": {
      "text/plain": "      normal  binomial\n0  21.986857        18\n1  19.446943        15\n2  22.590754        14\n3  26.092119        15\n4  19.063387        21",
      "text/html": "<div>\n<style scoped>\n    .dataframe tbody tr th:only-of-type {\n        vertical-align: middle;\n    }\n\n    .dataframe tbody tr th {\n        vertical-align: top;\n    }\n\n    .dataframe thead th {\n        text-align: right;\n    }\n</style>\n<table border=\"1\" class=\"dataframe\">\n  <thead>\n    <tr style=\"text-align: right;\">\n      <th></th>\n      <th>normal</th>\n      <th>binomial</th>\n    </tr>\n  </thead>\n  <tbody>\n    <tr>\n      <th>0</th>\n      <td>21.986857</td>\n      <td>18</td>\n    </tr>\n    <tr>\n      <th>1</th>\n      <td>19.446943</td>\n      <td>15</td>\n    </tr>\n    <tr>\n      <th>2</th>\n      <td>22.590754</td>\n      <td>14</td>\n    </tr>\n    <tr>\n      <th>3</th>\n      <td>26.092119</td>\n      <td>15</td>\n    </tr>\n    <tr>\n      <th>4</th>\n      <td>19.063387</td>\n      <td>21</td>\n    </tr>\n  </tbody>\n</table>\n</div>"
     },
     "metadata": {},
     "execution_count": 4
    }
   ],
   "source": [
    "dataframe.head()"
   ]
  },
  {
   "cell_type": "code",
   "execution_count": 5,
   "metadata": {},
   "outputs": [
    {
     "output_type": "execute_result",
     "data": {
      "text/plain": "(10000, 2)"
     },
     "metadata": {},
     "execution_count": 5
    }
   ],
   "source": [
    "dataframe.shape"
   ]
  },
  {
   "cell_type": "code",
   "execution_count": 6,
   "metadata": {},
   "outputs": [
    {
     "output_type": "execute_result",
     "data": {
      "text/plain": "             normal      binomial\ncount  10000.000000  10000.000000\nmean      19.991456     20.097000\nstd        4.013850      4.041191\nmin        4.310399      6.000000\n25%       17.309638     17.000000\n50%       19.989620     20.000000\n75%       22.684324     23.000000\nmax       35.704951     36.000000",
      "text/html": "<div>\n<style scoped>\n    .dataframe tbody tr th:only-of-type {\n        vertical-align: middle;\n    }\n\n    .dataframe tbody tr th {\n        vertical-align: top;\n    }\n\n    .dataframe thead th {\n        text-align: right;\n    }\n</style>\n<table border=\"1\" class=\"dataframe\">\n  <thead>\n    <tr style=\"text-align: right;\">\n      <th></th>\n      <th>normal</th>\n      <th>binomial</th>\n    </tr>\n  </thead>\n  <tbody>\n    <tr>\n      <th>count</th>\n      <td>10000.000000</td>\n      <td>10000.000000</td>\n    </tr>\n    <tr>\n      <th>mean</th>\n      <td>19.991456</td>\n      <td>20.097000</td>\n    </tr>\n    <tr>\n      <th>std</th>\n      <td>4.013850</td>\n      <td>4.041191</td>\n    </tr>\n    <tr>\n      <th>min</th>\n      <td>4.310399</td>\n      <td>6.000000</td>\n    </tr>\n    <tr>\n      <th>25%</th>\n      <td>17.309638</td>\n      <td>17.000000</td>\n    </tr>\n    <tr>\n      <th>50%</th>\n      <td>19.989620</td>\n      <td>20.000000</td>\n    </tr>\n    <tr>\n      <th>75%</th>\n      <td>22.684324</td>\n      <td>23.000000</td>\n    </tr>\n    <tr>\n      <th>max</th>\n      <td>35.704951</td>\n      <td>36.000000</td>\n    </tr>\n  </tbody>\n</table>\n</div>"
     },
     "metadata": {},
     "execution_count": 6
    }
   ],
   "source": [
    "dataframe.describe()"
   ]
  },
  {
   "cell_type": "code",
   "execution_count": 7,
   "metadata": {},
   "outputs": [
    {
     "output_type": "stream",
     "name": "stdout",
     "text": "0.31 -0.01 -0.316\n"
    }
   ],
   "source": [
    "q1_norm = float(dataframe['normal'].quantile(0.25))\n",
    "q2_norm = float(dataframe['normal'].quantile(0.5))\n",
    "q3_norm = float(dataframe['normal'].quantile(0.75))\n",
    "q1_binom = float(dataframe['binomial'].quantile(0.25))\n",
    "q2_binom = float(dataframe['binomial'].quantile(0.5))\n",
    "q3_binom = float(dataframe['binomial'].quantile(0.75))\n",
    "q1_dif = round((q1_norm - q1_binom), 3)\n",
    "q2_dif = round((q2_norm - q2_binom), 3)\n",
    "q3_dif = round((q3_norm - q3_binom), 3)\n",
    "print(q1_dif, q2_dif, q3_dif)"
   ]
  },
  {
   "cell_type": "code",
   "execution_count": 8,
   "metadata": {},
   "outputs": [],
   "source": [
    "norm = dataframe['normal']\n",
    "binom = dataframe['binomial']"
   ]
  },
  {
   "cell_type": "code",
   "execution_count": 9,
   "metadata": {},
   "outputs": [
    {
     "output_type": "stream",
     "name": "stdout",
     "text": "0.684\n"
    }
   ],
   "source": [
    "left = sct.norm.cdf((norm.mean() - norm.std()), loc = 20, scale = 4)\n",
    "right = sct.norm.cdf((norm.mean() + norm.std()), loc = 20, scale = 4)\n",
    "print((right - left).round(3))"
   ]
  },
  {
   "cell_type": "code",
   "execution_count": 10,
   "metadata": {},
   "outputs": [
    {
     "output_type": "stream",
     "name": "stdout",
     "text": "0.106 0.22\n"
    }
   ],
   "source": [
    "mean_df = round((binom.mean() - norm.mean()), 3)\n",
    "var_df = round((binom.var() - norm.var()), 3)\n",
    "print(mean_df, var_df)"
   ]
  },
  {
   "cell_type": "markdown",
   "metadata": {},
   "source": [
    "## Questão 1\n",
    "\n",
    "Qual a diferença entre os quartis (Q1, Q2 e Q3) das variáveis `normal` e `binomial` de `dataframe`? Responda como uma tupla de três elementos arredondados para três casas decimais.\n",
    "\n",
    "Em outra palavras, sejam `q1_norm`, `q2_norm` e `q3_norm` os quantis da variável `normal` e `q1_binom`, `q2_binom` e `q3_binom` os quantis da variável `binom`, qual a diferença `(q1_norm - q1 binom, q2_norm - q2_binom, q3_norm - q3_binom)`?"
   ]
  },
  {
   "cell_type": "code",
   "execution_count": 11,
   "metadata": {},
   "outputs": [],
   "source": [
    "def q1():\n",
    "    q1_norm = float(dataframe['normal'].quantile(0.25))\n",
    "    q2_norm = float(dataframe['normal'].quantile(0.5))\n",
    "    q3_norm = float(dataframe['normal'].quantile(0.75))\n",
    "    q1_binom = float(dataframe['binomial'].quantile(0.25))\n",
    "    q2_binom = float(dataframe['binomial'].quantile(0.5))\n",
    "    q3_binom = float(dataframe['binomial'].quantile(0.75))\n",
    "    q1_dif = round((q1_norm - q1_binom), 3)\n",
    "    q2_dif = round((q2_norm - q2_binom), 3)\n",
    "    q3_dif = round((q3_norm - q3_binom), 3)\n",
    "    return (q1_dif, q2_dif, q3_dif)"
   ]
  },
  {
   "cell_type": "markdown",
   "metadata": {},
   "source": [
    "Para refletir:\n",
    "\n",
    "* Você esperava valores dessa magnitude?\n",
    "\n",
    "* Você é capaz de explicar como distribuições aparentemente tão diferentes (discreta e contínua, por exemplo) conseguem dar esses valores?"
   ]
  },
  {
   "cell_type": "markdown",
   "metadata": {},
   "source": [
    "## Questão 2\n",
    "\n",
    "Considere o intervalo $[\\bar{x} - s, \\bar{x} + s]$, onde $\\bar{x}$ é a média amostral e $s$ é o desvio padrão. Qual a probabilidade nesse intervalo, calculada pela função de distribuição acumulada empírica (CDF empírica) da variável `normal`? Responda como uma único escalar arredondado para três casas decimais."
   ]
  },
  {
   "cell_type": "code",
   "execution_count": 28,
   "metadata": {},
   "outputs": [],
   "source": [
    "def q2():\n",
    "    left = sct.norm.cdf((norm.mean() - norm.std()), loc = 20, scale = 4)\n",
    "    right = sct.norm.cdf((norm.mean() + norm.std()), loc = 20, scale = 4)\n",
    "    answer = (right - left).round(3)\n",
    "    return float(answer)"
   ]
  },
  {
   "cell_type": "markdown",
   "metadata": {},
   "source": [
    "Para refletir:\n",
    "\n",
    "* Esse valor se aproxima do esperado teórico?\n",
    "* Experimente também para os intervalos $[\\bar{x} - 2s, \\bar{x} + 2s]$ e $[\\bar{x} - 3s, \\bar{x} + 3s]$."
   ]
  },
  {
   "cell_type": "markdown",
   "metadata": {},
   "source": [
    "## Questão 3\n",
    "\n",
    "Qual é a diferença entre as médias e as variâncias das variáveis `binomial` e `normal`? Responda como uma tupla de dois elementos arredondados para três casas decimais.\n",
    "\n",
    "Em outras palavras, sejam `m_binom` e `v_binom` a média e a variância da variável `binomial`, e `m_norm` e `v_norm` a média e a variância da variável `normal`. Quais as diferenças `(m_binom - m_norm, v_binom - v_norm)`?"
   ]
  },
  {
   "cell_type": "code",
   "execution_count": 14,
   "metadata": {},
   "outputs": [],
   "source": [
    "def q3():\n",
    "    mean_df = round((binom.mean() - norm.mean()), 3)\n",
    "    var_df = round((binom.var() - norm.var()), 3)\n",
    "    return (mean_df, var_df)"
   ]
  },
  {
   "cell_type": "markdown",
   "metadata": {},
   "source": [
    "Para refletir:\n",
    "\n",
    "* Você esperava valore dessa magnitude?\n",
    "* Qual o efeito de aumentar ou diminuir $n$ (atualmente 100) na distribuição da variável `binomial`?"
   ]
  },
  {
   "cell_type": "markdown",
   "metadata": {},
   "source": [
    "## Parte 2"
   ]
  },
  {
   "cell_type": "markdown",
   "metadata": {},
   "source": [
    "### _Setup_ da parte 2"
   ]
  },
  {
   "cell_type": "code",
   "execution_count": 15,
   "metadata": {},
   "outputs": [],
   "source": [
    "stars = pd.read_csv(\"pulsar_stars.csv\")\n",
    "\n",
    "stars.rename({old_name: new_name\n",
    "              for (old_name, new_name)\n",
    "              in zip(stars.columns,\n",
    "                     [\"mean_profile\", \"sd_profile\", \"kurt_profile\", \"skew_profile\", \"mean_curve\", \"sd_curve\", \"kurt_curve\", \"skew_curve\", \"target\"])\n",
    "             },\n",
    "             axis=1, inplace=True)\n",
    "\n",
    "stars.loc[:, \"target\"] = stars.target.astype(bool)"
   ]
  },
  {
   "cell_type": "markdown",
   "metadata": {},
   "source": [
    "## Inicie sua análise da parte 2 a partir daqui"
   ]
  },
  {
   "cell_type": "code",
   "execution_count": 16,
   "metadata": {},
   "outputs": [
    {
     "output_type": "execute_result",
     "data": {
      "text/plain": "   mean_profile  sd_profile  kurt_profile  skew_profile  mean_curve  \\\n0    102.507812   58.882430      0.465318     -0.515088    1.677258   \n1    103.015625   39.341649      0.323328      1.051164    3.121237   \n2    136.750000   57.178449     -0.068415     -0.636238    3.642977   \n3     88.726562   40.672225      0.600866      1.123492    1.178930   \n4     93.570312   46.698114      0.531905      0.416721    1.636288   \n\n    sd_curve  kurt_curve  skew_curve  target  \n0  14.860146   10.576487  127.393580   False  \n1  21.744669    7.735822   63.171909   False  \n2  20.959280    6.896499   53.593661   False  \n3  11.468720   14.269573  252.567306   False  \n4  14.545074   10.621748  131.394004   False  ",
      "text/html": "<div>\n<style scoped>\n    .dataframe tbody tr th:only-of-type {\n        vertical-align: middle;\n    }\n\n    .dataframe tbody tr th {\n        vertical-align: top;\n    }\n\n    .dataframe thead th {\n        text-align: right;\n    }\n</style>\n<table border=\"1\" class=\"dataframe\">\n  <thead>\n    <tr style=\"text-align: right;\">\n      <th></th>\n      <th>mean_profile</th>\n      <th>sd_profile</th>\n      <th>kurt_profile</th>\n      <th>skew_profile</th>\n      <th>mean_curve</th>\n      <th>sd_curve</th>\n      <th>kurt_curve</th>\n      <th>skew_curve</th>\n      <th>target</th>\n    </tr>\n  </thead>\n  <tbody>\n    <tr>\n      <th>0</th>\n      <td>102.507812</td>\n      <td>58.882430</td>\n      <td>0.465318</td>\n      <td>-0.515088</td>\n      <td>1.677258</td>\n      <td>14.860146</td>\n      <td>10.576487</td>\n      <td>127.393580</td>\n      <td>False</td>\n    </tr>\n    <tr>\n      <th>1</th>\n      <td>103.015625</td>\n      <td>39.341649</td>\n      <td>0.323328</td>\n      <td>1.051164</td>\n      <td>3.121237</td>\n      <td>21.744669</td>\n      <td>7.735822</td>\n      <td>63.171909</td>\n      <td>False</td>\n    </tr>\n    <tr>\n      <th>2</th>\n      <td>136.750000</td>\n      <td>57.178449</td>\n      <td>-0.068415</td>\n      <td>-0.636238</td>\n      <td>3.642977</td>\n      <td>20.959280</td>\n      <td>6.896499</td>\n      <td>53.593661</td>\n      <td>False</td>\n    </tr>\n    <tr>\n      <th>3</th>\n      <td>88.726562</td>\n      <td>40.672225</td>\n      <td>0.600866</td>\n      <td>1.123492</td>\n      <td>1.178930</td>\n      <td>11.468720</td>\n      <td>14.269573</td>\n      <td>252.567306</td>\n      <td>False</td>\n    </tr>\n    <tr>\n      <th>4</th>\n      <td>93.570312</td>\n      <td>46.698114</td>\n      <td>0.531905</td>\n      <td>0.416721</td>\n      <td>1.636288</td>\n      <td>14.545074</td>\n      <td>10.621748</td>\n      <td>131.394004</td>\n      <td>False</td>\n    </tr>\n  </tbody>\n</table>\n</div>"
     },
     "metadata": {},
     "execution_count": 16
    }
   ],
   "source": [
    "stars.head(5)"
   ]
  },
  {
   "cell_type": "code",
   "execution_count": 17,
   "metadata": {},
   "outputs": [
    {
     "output_type": "execute_result",
     "data": {
      "text/plain": "(17897, 9)"
     },
     "metadata": {},
     "execution_count": 17
    }
   ],
   "source": [
    "stars.shape"
   ]
  },
  {
   "cell_type": "code",
   "execution_count": 18,
   "metadata": {},
   "outputs": [
    {
     "output_type": "execute_result",
     "data": {
      "text/plain": "   mean_profile  sd_profile  kurt_profile  skew_profile  mean_curve  \\\n0    102.507812   58.882430      0.465318     -0.515088    1.677258   \n1    103.015625   39.341649      0.323328      1.051164    3.121237   \n2    136.750000   57.178449     -0.068415     -0.636238    3.642977   \n3     88.726562   40.672225      0.600866      1.123492    1.178930   \n4     93.570312   46.698114      0.531905      0.416721    1.636288   \n\n    sd_curve  kurt_curve  skew_curve  target  \n0  14.860146   10.576487  127.393580   False  \n1  21.744669    7.735822   63.171909   False  \n2  20.959280    6.896499   53.593661   False  \n3  11.468720   14.269573  252.567306   False  \n4  14.545074   10.621748  131.394004   False  ",
      "text/html": "<div>\n<style scoped>\n    .dataframe tbody tr th:only-of-type {\n        vertical-align: middle;\n    }\n\n    .dataframe tbody tr th {\n        vertical-align: top;\n    }\n\n    .dataframe thead th {\n        text-align: right;\n    }\n</style>\n<table border=\"1\" class=\"dataframe\">\n  <thead>\n    <tr style=\"text-align: right;\">\n      <th></th>\n      <th>mean_profile</th>\n      <th>sd_profile</th>\n      <th>kurt_profile</th>\n      <th>skew_profile</th>\n      <th>mean_curve</th>\n      <th>sd_curve</th>\n      <th>kurt_curve</th>\n      <th>skew_curve</th>\n      <th>target</th>\n    </tr>\n  </thead>\n  <tbody>\n    <tr>\n      <th>0</th>\n      <td>102.507812</td>\n      <td>58.882430</td>\n      <td>0.465318</td>\n      <td>-0.515088</td>\n      <td>1.677258</td>\n      <td>14.860146</td>\n      <td>10.576487</td>\n      <td>127.393580</td>\n      <td>False</td>\n    </tr>\n    <tr>\n      <th>1</th>\n      <td>103.015625</td>\n      <td>39.341649</td>\n      <td>0.323328</td>\n      <td>1.051164</td>\n      <td>3.121237</td>\n      <td>21.744669</td>\n      <td>7.735822</td>\n      <td>63.171909</td>\n      <td>False</td>\n    </tr>\n    <tr>\n      <th>2</th>\n      <td>136.750000</td>\n      <td>57.178449</td>\n      <td>-0.068415</td>\n      <td>-0.636238</td>\n      <td>3.642977</td>\n      <td>20.959280</td>\n      <td>6.896499</td>\n      <td>53.593661</td>\n      <td>False</td>\n    </tr>\n    <tr>\n      <th>3</th>\n      <td>88.726562</td>\n      <td>40.672225</td>\n      <td>0.600866</td>\n      <td>1.123492</td>\n      <td>1.178930</td>\n      <td>11.468720</td>\n      <td>14.269573</td>\n      <td>252.567306</td>\n      <td>False</td>\n    </tr>\n    <tr>\n      <th>4</th>\n      <td>93.570312</td>\n      <td>46.698114</td>\n      <td>0.531905</td>\n      <td>0.416721</td>\n      <td>1.636288</td>\n      <td>14.545074</td>\n      <td>10.621748</td>\n      <td>131.394004</td>\n      <td>False</td>\n    </tr>\n  </tbody>\n</table>\n</div>"
     },
     "metadata": {},
     "execution_count": 18
    }
   ],
   "source": [
    "stars_filtered = stars.loc[stars['target'] == False]\n",
    "stars_filtered.head(5)"
   ]
  },
  {
   "cell_type": "code",
   "execution_count": 19,
   "metadata": {},
   "outputs": [],
   "source": [
    "stars_filtered = stars_filtered['mean_profile']"
   ]
  },
  {
   "cell_type": "code",
   "execution_count": 20,
   "metadata": {},
   "outputs": [
    {
     "output_type": "execute_result",
     "data": {
      "text/plain": "<bound method NDFrame.head of 0        102.507812\n1        103.015625\n2        136.750000\n3         88.726562\n4         93.570312\n5        119.484375\n6        130.382812\n7        107.250000\n8        107.257812\n9        142.078125\n10       133.257812\n11       134.960938\n12       117.945312\n13       138.179688\n14       114.367188\n15       109.640625\n16       100.851562\n17       136.093750\n19       100.890625\n20       105.445312\n21        95.867188\n22       117.367188\n23       106.648438\n24       112.718750\n25       130.851562\n26       119.437500\n27       123.210938\n28       102.617188\n29       110.109375\n30        99.914062\n            ...    \n17866    131.671875\n17867     96.859375\n17868    137.375000\n17869    110.765625\n17870    119.007812\n17871    139.898438\n17872     89.453125\n17873    126.554688\n17874    133.140625\n17876    118.296875\n17877     90.148438\n17878    107.664062\n17879    105.492188\n17880    130.500000\n17881    131.000000\n17882     84.421875\n17883    106.875000\n17884    133.820312\n17885    127.070312\n17886    121.375000\n17887     98.726562\n17888    126.625000\n17889    143.671875\n17890    118.484375\n17891     96.000000\n17892    136.429688\n17893    122.554688\n17894    119.335938\n17895    114.507812\n17896     57.062500\nName: mean_profile, Length: 16258, dtype: float64>"
     },
     "metadata": {},
     "execution_count": 20
    }
   ],
   "source": [
    "stars_filtered.head"
   ]
  },
  {
   "cell_type": "code",
   "execution_count": 21,
   "metadata": {},
   "outputs": [],
   "source": [
    "false_pulsar_mean_profile_standardized = ((stars_filtered - stars_filtered.mean()) / stars_filtered.std())"
   ]
  },
  {
   "cell_type": "code",
   "execution_count": 22,
   "metadata": {},
   "outputs": [
    {
     "output_type": "execute_result",
     "data": {
      "text/plain": "0       -0.804181\n1       -0.775123\n2        1.155263\n3       -1.592787\n4       -1.315613\n5        0.167270\n6        0.790913\n7       -0.532819\n8       -0.532372\n9        1.460155\n10       0.955429\n11       1.052887\n12       0.079200\n13       1.237074\n14      -0.125551\n15      -0.396020\n16      -0.898957\n17       1.117710\n19      -0.896722\n20      -0.636089\n21      -1.184179\n22       0.046118\n23      -0.567242\n24      -0.219880\n25       0.817736\n26       0.164588\n27       0.380516\n28      -0.797923\n29      -0.369196\n30      -0.952604\n           ...   \n17866    0.864677\n17867   -1.127403\n17868    1.191028\n17869   -0.331644\n17870    0.140000\n17871    1.335427\n17872   -1.551211\n17873    0.571856\n17874    0.948723\n17876    0.099318\n17877   -1.511423\n17878   -0.509125\n17879   -0.633406\n17880    0.797619\n17881    0.826230\n17882   -1.839115\n17883   -0.554277\n17884    0.987617\n17885    0.601361\n17886    0.275458\n17887   -1.020556\n17888    0.575879\n17889    1.551354\n17890    0.110047\n17891   -1.176579\n17892    1.136934\n17893    0.342963\n17894    0.158776\n17895   -0.117504\n17896   -3.404704\nName: mean_profile, Length: 16258, dtype: float64"
     },
     "metadata": {},
     "execution_count": 22
    }
   ],
   "source": [
    "false_pulsar_mean_profile_standardized"
   ]
  },
  {
   "cell_type": "code",
   "execution_count": null,
   "metadata": {},
   "outputs": [],
   "source": []
  },
  {
   "cell_type": "markdown",
   "metadata": {},
   "source": [
    "## Questão 4\n",
    "\n",
    "Considerando a variável `mean_profile` de `stars`:\n",
    "\n",
    "1. Filtre apenas os valores de `mean_profile` onde `target == 0` (ou seja, onde a estrela não é um pulsar).\n",
    "2. Padronize a variável `mean_profile` filtrada anteriormente para ter média 0 e variância 1.\n",
    "\n",
    "Chamaremos a variável resultante de `false_pulsar_mean_profile_standardized`.\n",
    "\n",
    "Encontre os quantis teóricos para uma distribuição normal de média 0 e variância 1 para 0.80, 0.90 e 0.95 através da função `norm.ppf()` disponível em `scipy.stats`.\n",
    "\n",
    "Quais as probabilidade associadas a esses quantis utilizando a CDF empírica da variável `false_pulsar_mean_profile_standardized`? Responda como uma tupla de três elementos arredondados para três casas decimais."
   ]
  },
  {
   "cell_type": "code",
   "execution_count": 23,
   "metadata": {},
   "outputs": [],
   "source": [
    "def q4():\n",
    "    ecdf_false_pulsar = ECDF(false_pulsar_mean_profile_standardized)\n",
    "    q1_false = sct.norm.ppf(0.8, loc = 0, scale = 1)\n",
    "    q2_false = sct.norm.ppf(0.9, loc = 0, scale = 1)\n",
    "    q3_false = sct.norm.ppf(0.95, loc = 0, scale = 1)\n",
    "    return (ecdf_false_pulsar(q1_false).round(3), ecdf_false_pulsar(q2_false).round(3), ecdf_false_pulsar(q3_false).round(3))"
   ]
  },
  {
   "cell_type": "markdown",
   "metadata": {},
   "source": [
    "Para refletir:\n",
    "\n",
    "* Os valores encontrados fazem sentido?\n",
    "* O que isso pode dizer sobre a distribuição da variável `false_pulsar_mean_profile_standardized`?"
   ]
  },
  {
   "cell_type": "markdown",
   "metadata": {},
   "source": [
    "## Questão 5\n",
    "\n",
    "Qual a diferença entre os quantis Q1, Q2 e Q3 de `false_pulsar_mean_profile_standardized` e os mesmos quantis teóricos de uma distribuição normal de média 0 e variância 1? Responda como uma tupla de três elementos arredondados para três casas decimais."
   ]
  },
  {
   "cell_type": "code",
   "execution_count": 24,
   "metadata": {},
   "outputs": [],
   "source": [
    "def q5():\n",
    "    quantile_theory = np.quantile(false_pulsar_mean_profile_standardized, [0.25, 0.5, 0.75])\n",
    "    norm_false = sct.norm(false_pulsar_mean_profile_standardized)\n",
    "    quantile_norm = [sct.norm.ppf(0.25, loc = 0, scale = 1), sct.norm.ppf(0.5, loc = 0, scale = 1), sct.norm.ppf(0.75, loc = 0, scale = 1)]\n",
    "    quantile_result = (quantile_theory - quantile_norm).round(3)\n",
    "    return tuple(quantile_result)"
   ]
  },
  {
   "cell_type": "code",
   "execution_count": 25,
   "metadata": {},
   "outputs": [
    {
     "output_type": "execute_result",
     "data": {
      "text/plain": "(0.027, 0.04, -0.004)"
     },
     "metadata": {},
     "execution_count": 25
    }
   ],
   "source": [
    "q5()"
   ]
  },
  {
   "cell_type": "markdown",
   "metadata": {},
   "source": [
    "Para refletir:\n",
    "\n",
    "* Os valores encontrados fazem sentido?\n",
    "* O que isso pode dizer sobre a distribuição da variável `false_pulsar_mean_profile_standardized`?\n",
    "* Curiosidade: alguns testes de hipóteses sobre normalidade dos dados utilizam essa mesma abordagem."
   ]
  }
 ],
 "metadata": {
  "kernelspec": {
   "display_name": "Python 3.7.7 64-bit ('ds-1': venv)",
   "language": "python",
   "name": "python37764bitds1venv98cca895be5a4f4c8e02c0c499b4ccac"
  },
  "language_info": {
   "codemirror_mode": {
    "name": "ipython",
    "version": 3
   },
   "file_extension": ".py",
   "mimetype": "text/x-python",
   "name": "python",
   "nbconvert_exporter": "python",
   "pygments_lexer": "ipython3",
   "version": "3.7.7-final"
  }
 },
 "nbformat": 4,
 "nbformat_minor": 2
}